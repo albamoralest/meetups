{
 "cells": [
  {
   "cell_type": "markdown",
   "metadata": {},
   "source": [
    "# Format text from wikipedia biography"
   ]
  },
  {
   "cell_type": "code",
   "execution_count": 1,
   "metadata": {},
   "outputs": [],
   "source": [
    "import pandas as pd\n",
    "from _datetime import date"
   ]
  },
  {
   "cell_type": "code",
   "execution_count": 159,
   "metadata": {},
   "outputs": [],
   "source": [
    "people_list = ['Glenn_Miller','Andrés_Segovia','Django_Reinhardt','Maria_Callas','Édith_Piaf','John_Lennon']\n",
    "wikiId_list = ['64610','71932','9039','64966','64963','15852']\n",
    "# wikiId = ['64610']"
   ]
  },
  {
   "cell_type": "code",
   "execution_count": 12,
   "metadata": {},
   "outputs": [],
   "source": [
    "def readText(filename):\n",
    "    fileObject = open(\"people/\"+filename+'.txt', \"r\")\n",
    "    data = fileObject.readlines()\n",
    "    return data\n",
    "\n",
    "def writeTextFile(filename,content):\n",
    "    f = open('cleanText/'+filename+'.txt', \"w\")\n",
    "    f.writelines(content)\n",
    "    f.close()\n",
    "    \n",
    "def cleanText(text):\n",
    "    ctext=[]\n",
    "    for line in text:\n",
    "        if \"== See also ==\" in line:\n",
    "            break\n",
    "        if not len(line.strip()) < 1 :\n",
    "            ctext.append(line)\n",
    "    return ctext"
   ]
  },
  {
   "cell_type": "code",
   "execution_count": 14,
   "metadata": {},
   "outputs": [
    {
     "name": "stdout",
     "output_type": "stream",
     "text": [
      "47\n",
      "66\n",
      "97\n",
      "218\n",
      "111\n",
      "92\n"
     ]
    }
   ],
   "source": [
    "df = pd.DataFrame()\n",
    "\n",
    "for person in wikiId_list:\n",
    "    # read text\n",
    "    text = readText(person)\n",
    "    # clean empty lines\n",
    "    ctext= cleanText(text)\n",
    "    print(len(ctext))\n",
    "    writeTextFile(person,ctext)"
   ]
  },
  {
   "cell_type": "code",
   "execution_count": null,
   "metadata": {},
   "outputs": [],
   "source": []
  }
 ],
 "metadata": {
  "kernelspec": {
   "display_name": "Python 3",
   "language": "python",
   "name": "python3"
  },
  "language_info": {
   "codemirror_mode": {
    "name": "ipython",
    "version": 3
   },
   "file_extension": ".py",
   "mimetype": "text/x-python",
   "name": "python",
   "nbconvert_exporter": "python",
   "pygments_lexer": "ipython3",
   "version": "3.8.6"
  }
 },
 "nbformat": 4,
 "nbformat_minor": 4
}
