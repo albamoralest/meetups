{
 "cells": [
  {
   "cell_type": "markdown",
   "metadata": {},
   "source": [
    "# Format text from wikipedia biography"
   ]
  },
  {
   "cell_type": "code",
   "execution_count": 2,
   "metadata": {},
   "outputs": [],
   "source": [
    "import pandas as pd\n",
    "from _datetime import date"
   ]
  },
  {
   "cell_type": "code",
   "execution_count": 6,
   "metadata": {},
   "outputs": [],
   "source": [
    "people_list = ['Glenn_Miller','Andrés_Segovia','Django_Reinhardt','Maria_Callas','Édith_Piaf','John_Lennon']\n",
    "wikiId_List = ['64610','71932','9039','64966','64963','15852']\n",
    "# wikiId = ['64610']"
   ]
  },
  {
   "cell_type": "code",
   "execution_count": 21,
   "metadata": {},
   "outputs": [],
   "source": [
    "def readText(filename,folder):\n",
    "    fileObject = open(folder+filename+'.txt', \"r\")\n",
    "    data = fileObject.readlines()\n",
    "    return data\n",
    "\n",
    "def writeTextFile(filename,content):\n",
    "    f = open('cleanText/'+filename+'.txt', \"w\")\n",
    "    f.writelines(content)\n",
    "    f.close()\n",
    "    \n",
    "def cleanText(text):\n",
    "    ctext=[]\n",
    "    for line in text:\n",
    "        if \"== See also ==\" in line:\n",
    "            break\n",
    "        if not len(line.strip()) < 1 :\n",
    "            ctext.append(line)\n",
    "    return ctext\n",
    "\n",
    "def identifySection(txt):\n",
    "    '''\n",
    "    args: text, the paragraph to identify\n",
    "    return: section and subsection\n",
    "    '''\n",
    "    typeSection = 0\n",
    "    if txt.startswith(\"==\", 0, 2):\n",
    "        typeSection = 1\n",
    "    if txt.startswith(\"===\", 0, 3):\n",
    "        typeSection = 2\n",
    "    \n",
    "    return typeSection"
   ]
  },
  {
   "cell_type": "code",
   "execution_count": 14,
   "metadata": {},
   "outputs": [
    {
     "name": "stdout",
     "output_type": "stream",
     "text": [
      "47\n",
      "66\n",
      "97\n",
      "218\n",
      "111\n",
      "92\n"
     ]
    }
   ],
   "source": [
    "df = pd.DataFrame()\n",
    "\n",
    "for person in wikiId_list:\n",
    "    # read text\n",
    "    text = readText(person,\"people/\")\n",
    "    # clean empty lines\n",
    "    ctext= cleanText(text)\n",
    "    print(len(ctext))\n",
    "    writeTextFile(person,ctext)"
   ]
  },
  {
   "cell_type": "code",
   "execution_count": 42,
   "metadata": {},
   "outputs": [],
   "source": [
    "# Structure: biography as a collection of paragraphs\n",
    "## paragraphs as part of a section\n",
    "\n",
    "for textFileName in wikiId_List:\n",
    "    #dataframe to store all the information of the biography\n",
    "    #read text\n",
    "    text = readText(textFileName,\"cleanText/\")\n",
    "    biography_df = pd.DataFrame({'paragraph':text})\n",
    "    #index number\n",
    "    biography_df['paragraphIndex'] = list(range(len(biography_df)))\n",
    "    \n",
    "    section_list = setSection(biography_df)\n",
    "    #section name\n",
    "    biography_df['section'] = section_list\n",
    "    \n",
    "    # save information\n",
    "    biography_df.to_csv('cleanText/'+textFileName+'_codedParagraphs.csv',index=False)"
   ]
  },
  {
   "cell_type": "code",
   "execution_count": 41,
   "metadata": {},
   "outputs": [],
   "source": [
    "# used to extract the sections and subsections\n",
    "def setSection(biography_df):# row section\n",
    "    sectionTitle_list = []\n",
    "    lastTitle = \"\"\n",
    "    sectionTitle = \"\"\n",
    "    # for each paragraph in the dataframe\n",
    "    for prg in biography_df.itertuples():\n",
    "        #return the type of section: level 0, level 1 (belongs to previous section)\n",
    "        typeSection = identifySection(prg.paragraph)\n",
    "        if typeSection==0 and lastTitle == \"\":\n",
    "            sectionTitle = \"N/A\"\n",
    "        elif typeSection==1:\n",
    "            lastTitle=prg.paragraph\n",
    "            sectionTitle = prg.paragraph\n",
    "        elif typeSection==2:\n",
    "            sectionTitle = lastTitle+\" \\n \"+prg.paragraph\n",
    "        # add to a list\n",
    "        sectionTitle_list.append(sectionTitle)\n",
    "    return sectionTitle_list\n",
    "    # row subsection"
   ]
  },
  {
   "cell_type": "code",
   "execution_count": null,
   "metadata": {},
   "outputs": [],
   "source": []
  }
 ],
 "metadata": {
  "kernelspec": {
   "display_name": "Python 3",
   "language": "python",
   "name": "python3"
  },
  "language_info": {
   "codemirror_mode": {
    "name": "ipython",
    "version": 3
   },
   "file_extension": ".py",
   "mimetype": "text/x-python",
   "name": "python",
   "nbconvert_exporter": "python",
   "pygments_lexer": "ipython3",
   "version": "3.8.6"
  }
 },
 "nbformat": 4,
 "nbformat_minor": 4
}
